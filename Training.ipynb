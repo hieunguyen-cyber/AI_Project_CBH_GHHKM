{
  "nbformat": 4,
  "nbformat_minor": 0,
  "metadata": {
    "colab": {
      "provenance": [],
      "gpuType": "T4",
      "collapsed_sections": [
        "ps6KSMm7HE12",
        "MMpNLXD7IT3m",
        "pt7_AajLJhQ1",
        "YdlNFI_WMgwE"
      ],
      "include_colab_link": true
    },
    "kernelspec": {
      "name": "python3",
      "display_name": "Python 3"
    },
    "language_info": {
      "name": "python"
    },
    "accelerator": "GPU"
  },
  "cells": [
    {
      "cell_type": "markdown",
      "metadata": {
        "id": "view-in-github",
        "colab_type": "text"
      },
      "source": [
        "<a href=\"https://colab.research.google.com/github/hieunguyen-cyber/AI_Project_CBH_GHHKM/blob/main/Training.ipynb\" target=\"_parent\"><img src=\"https://colab.research.google.com/assets/colab-badge.svg\" alt=\"Open In Colab\"/></a>"
      ]
    },
    {
      "cell_type": "markdown",
      "source": [
        "#**Huấn luyện mô hình nhận diện biển báo giao thông sử dụng YOLOv10**\n",
        "\n",
        "\n",
        "\n",
        "Nhóm thực hiện: CBH_GHHKM\n",
        "\n",
        "**Lưu ý**: Trước khi thực hiện, chuyển đổi môi trường chạy sang GPU. Nhớ kiểm tra thời gian còn lại của GPU có đủ cho thời gian huấn luyện dự kiến.\n",
        "\n",
        "---"
      ],
      "metadata": {
        "id": "-VILZAAlD4UQ"
      }
    },
    {
      "cell_type": "markdown",
      "source": [
        "###**Bước 1**: Clone các file cần thiết\n",
        "\n",
        "Ở đây, YOLOv10 sẽ được clone từ GitHub và tập dữ liệu sử dụng để huấn luyện sẽ được tải về sử dụng API từ Kaggle.\n",
        "\n",
        "Nguồn:\n",
        "* [Vietnamese Traffic Signs Dataset](https://www.kaggle.com/datasets/maitam/vietnamese-traffic-signs)\n",
        "* [YOLOv10](https://github.com/THU-MIG/yolov10)"
      ],
      "metadata": {
        "id": "8lTAN7GeER2Q"
      }
    },
    {
      "cell_type": "code",
      "execution_count": null,
      "metadata": {
        "id": "FUAGjFPHBTW5"
      },
      "outputs": [],
      "source": [
        "!git clone https://github.com/hieunguyen-cyber/API-key.git\n",
        "!git clone https://github.com/THU-MIG/yolov10"
      ]
    },
    {
      "cell_type": "markdown",
      "source": [
        "###**Bước 2**: Tiến hành tải về tập dữ liệu\n",
        "\n",
        "Ở đây tôi đã thêm 1 file **sign.yaml** vào tập dữ liệu gốc nhằm phục vụ cho việc huấn luyện."
      ],
      "metadata": {
        "id": "ps6KSMm7HE12"
      }
    },
    {
      "cell_type": "code",
      "source": [
        "!mkdir -p ~/.kaggle\n",
        "!cp /content/API-key/kaggle.json ~/.kaggle/\n",
        "!chmod 600 ~/.kaggle/kaggle.json\n",
        "!pip install -q kaggle\n",
        "!kaggle datasets download -d hieunguyen2208/vietnamese-traffic-signs"
      ],
      "metadata": {
        "collapsed": true,
        "id": "h3ViZy9_F7jW"
      },
      "execution_count": null,
      "outputs": []
    },
    {
      "cell_type": "markdown",
      "source": [
        "Tiến hành giải nén tập dữ liệu"
      ],
      "metadata": {
        "id": "mkYVf0vVIMWH"
      }
    },
    {
      "cell_type": "code",
      "source": [
        "!unzip /content/vietnamese-traffic-signs.zip"
      ],
      "metadata": {
        "id": "IF0MxMIVIQc2"
      },
      "execution_count": null,
      "outputs": []
    },
    {
      "cell_type": "markdown",
      "source": [
        "###**Bước 3**: Tiến hành cài đặt YOLOv10\n",
        "\n",
        "**Lưu ý**: Do lỗi dependencies giữa một vài thư viện của PyTorch nên bước này chạy hai lần"
      ],
      "metadata": {
        "id": "MMpNLXD7IT3m"
      }
    },
    {
      "cell_type": "code",
      "source": [
        "%cd yolov10\n",
        "!pip install torch\n",
        "!pip install -q -r requirements.txt\n",
        "!pip install -e\n",
        "!wget https://github.com/THU-MIG/yolov10/releases/download/v1.1/yolov10n.pt"
      ],
      "metadata": {
        "collapsed": true,
        "id": "D8DUp76EIfdG"
      },
      "execution_count": null,
      "outputs": []
    },
    {
      "cell_type": "markdown",
      "source": [
        "###**Bước 4**: Tiến hành chia tập dư liệu thành tập train và val\n",
        "\n",
        "Cụ thể, tập dữ liệu gốc gồm 3216 cặp image-label, ta chia thành hai tập, tập train gồm 2572 cặp, tập val gồm 644 cặp"
      ],
      "metadata": {
        "id": "pt7_AajLJhQ1"
      }
    },
    {
      "cell_type": "code",
      "source": [
        "import os\n",
        "import shutil\n",
        "from sklearn.model_selection import train_test_split\n",
        "\n",
        "image_dir = '/content/dataset/images'\n",
        "label_dir = '/content/dataset/labels'\n",
        "train_image_dir = '/content/dataset/images/train'\n",
        "val_image_dir = '/content/dataset/images/val'\n",
        "train_label_dir = '/content/dataset/labels/train'\n",
        "val_label_dir = '/content/dataset/labels/val'\n",
        "\n",
        "os.makedirs(train_image_dir, exist_ok=True)\n",
        "os.makedirs(val_image_dir, exist_ok=True)\n",
        "os.makedirs(train_label_dir, exist_ok=True)\n",
        "os.makedirs(val_label_dir, exist_ok=True)\n",
        "\n",
        "images = [f for f in os.listdir(image_dir) if f.endswith('.jpg')]\n",
        "labels = [f.replace('.jpg', '.txt') for f in images]\n",
        "\n",
        "if len(images) == 0:\n",
        "    raise ValueError(\"No images found in the dataset directory.\")\n",
        "if len(images) < 5:\n",
        "    raise ValueError(\"Not enough samples to split. Ensure you have at least 5 images.\")\n",
        "\n",
        "train_images, val_images, train_labels, val_labels = train_test_split(\n",
        "    images, labels, test_size=0.2, train_size=0.8, random_state=42\n",
        ")\n",
        "\n",
        "for img, lbl in zip(train_images, train_labels):\n",
        "    shutil.move(os.path.join(image_dir, img), os.path.join(train_image_dir, img))\n",
        "    shutil.move(os.path.join(label_dir, lbl), os.path.join(train_label_dir, lbl))\n",
        "\n",
        "for img, lbl in zip(val_images, val_labels):\n",
        "    shutil.move(os.path.join(image_dir, img), os.path.join(val_image_dir, img))\n",
        "    shutil.move(os.path.join(label_dir, lbl), os.path.join(val_label_dir, lbl))\n"
      ],
      "metadata": {
        "id": "bg0v-fOnKGK2"
      },
      "execution_count": null,
      "outputs": []
    },
    {
      "cell_type": "markdown",
      "source": [
        "###**Bước 5**: Tiến hành huấn luyện\n",
        "\n",
        "Ở đây, do hạn chế về mặt phần cứng và để tiết kiệm thời gian huấn luyện, đội quyết định chọn các thông số như sau cho lần đầu:\n",
        "* EPOCHS = 200\n",
        "* BATCH_SIZE = 256\n",
        "* IMAGE_SIZE = 320\n",
        "\n",
        "Sau đó, file trọng số **best.pt** được trích xuất và huấn luyện lại nhiều lần với thông số mỗi lần là:\n",
        "* EPOCHS = 30 - 50\n",
        "* BATCH_SIZE = 256\n",
        "* IMAGE_SIZE = 320\n",
        "\n",
        "Cụ thể, với kích cỡ của tập dữ liệu như trên, thời gian huấn luyện 1 epoch trung bình mất 45s."
      ],
      "metadata": {
        "id": "YdlNFI_WMgwE"
      }
    },
    {
      "cell_type": "markdown",
      "source": [
        "Nếu là lần đầu huấn luyện"
      ],
      "metadata": {
        "id": "NRsYW8UFpPEZ"
      }
    },
    {
      "cell_type": "code",
      "source": [
        "from ultralytics import YOLOv10\n",
        "MODEL_PATH = '/content/yolov10/yolov10n.pt'\n",
        "model = YOLOv10(MODEL_PATH)\n",
        "YAML_PATH = '/content/dataset/sign.yaml'\n",
        "EPOCHS = 200\n",
        "IMG_SIZE = 320\n",
        "BATCH_SIZE = 256\n",
        "model.train(data=YAML_PATH ,\n",
        "            epochs= EPOCHS ,\n",
        "            batch=BATCH_SIZE,\n",
        "            imgsz= IMG_SIZE)"
      ],
      "metadata": {
        "collapsed": true,
        "id": "KUtU9tOINaTl"
      },
      "execution_count": null,
      "outputs": []
    },
    {
      "cell_type": "markdown",
      "source": [
        "Nếu là huấn luyện lại"
      ],
      "metadata": {
        "id": "DekZ-huVpR0J"
      }
    },
    {
      "cell_type": "markdown",
      "source": [
        "* Tải về file **best.pt** từ lần huấn luyện gần nhất"
      ],
      "metadata": {
        "id": "-6vbEa5OqH46"
      }
    },
    {
      "cell_type": "code",
      "source": [
        "%cd /content\n",
        "!git clone https://github.com/hieunguyen-cyber/Weight_AIBK_2024.git\n",
        "!mv /content/Weight_AIBK_2024/best.pt /content"
      ],
      "metadata": {
        "id": "rPBeT7_np6pR"
      },
      "execution_count": null,
      "outputs": []
    },
    {
      "cell_type": "markdown",
      "source": [
        "* Tiến hành huấn luyện"
      ],
      "metadata": {
        "id": "MLT6Hpn0Epfy"
      }
    },
    {
      "cell_type": "code",
      "source": [
        "%cd /content/yolov10\n",
        "from ultralytics import YOLOv10\n",
        "MODEL_PATH = '/content/best.pt'\n",
        "model = YOLOv10(MODEL_PATH)\n",
        "YAML_PATH = '/content/dataset/sign.yaml'\n",
        "EPOCHS = 1\n",
        "IMG_SIZE = 320\n",
        "BATCH_SIZE = 256\n",
        "model.train(data=YAML_PATH ,\n",
        "            epochs= EPOCHS ,\n",
        "            batch=BATCH_SIZE,\n",
        "            imgsz= IMG_SIZE)"
      ],
      "metadata": {
        "id": "dBuI_nA0pkkS"
      },
      "execution_count": null,
      "outputs": []
    },
    {
      "cell_type": "markdown",
      "source": [
        "###**Bước 6**: Lưu file **best.pt** lên repository GitHub để lưu trữ"
      ],
      "metadata": {
        "id": "7LvSgDXLFeZ5"
      }
    },
    {
      "cell_type": "markdown",
      "source": [
        "* **Bước 1**: Tải file về máy"
      ],
      "metadata": {
        "id": "0W9C7kv3Jwb3"
      }
    },
    {
      "cell_type": "code",
      "source": [
        "from google.colab import files\n",
        "files.download('/content/yolov10/runs/detect/train/weights/best.pt')"
      ],
      "metadata": {
        "id": "BSYmrAy4J2WX"
      },
      "execution_count": null,
      "outputs": []
    },
    {
      "cell_type": "markdown",
      "source": [
        "* **Bước 2**: Tải file lên Github sau : [Weight_AIBK_2024](https://github.com/hieunguyen-cyber/Weight_AIBK_2024)\n"
      ],
      "metadata": {
        "id": "6F59OInUKK8S"
      }
    }
  ]
}