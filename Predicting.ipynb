{
  "cells": [
    {
      "cell_type": "markdown",
      "metadata": {
        "id": "view-in-github",
        "colab_type": "text"
      },
      "source": [
        "<a href=\"https://colab.research.google.com/github/hieunguyen-cyber/AI_Project_CBH_GHHKM/blob/main/Predicting.ipynb\" target=\"_parent\"><img src=\"https://colab.research.google.com/assets/colab-badge.svg\" alt=\"Open In Colab\"/></a>"
      ]
    },
    {
      "cell_type": "markdown",
      "metadata": {
        "id": "U5UMSnbwTSBo"
      },
      "source": [
        "#**Sử dụng mô hình YOLOv10 đã được huấn luyện để nhận diện biên báo giao thông**\n",
        "\n",
        "\n",
        "Ở đây, chúng ta sẽ sử dụng file trọng số **best.pt** thu được trong giai đoạn huấn luyện để áp dụng vào mô hình YOLOv10 nhằm giải quyết bài toán nhận diện biển báo giao thông.\n",
        "\n",
        "**Chú ý**: Kết nối với GPU trước khi sử dụng\n",
        "\n",
        "Nhóm thực hiện: CBH_GHHKM\n",
        "\n",
        "---"
      ]
    },
    {
      "cell_type": "markdown",
      "metadata": {
        "id": "mNw_R4VrUyK5"
      },
      "source": [
        "###**Bước 1**: Tải file trọng số **best.pt** lên Google Colab"
      ]
    },
    {
      "cell_type": "code",
      "execution_count": null,
      "metadata": {
        "id": "f-rUHubbWf4t"
      },
      "outputs": [],
      "source": [
        "!git clone https://github.com/hieunguyen-cyber/Weight_AIBK_2024.git\n",
        "!mv /content/Weight_AIBK_2024/best.pt /content"
      ]
    },
    {
      "cell_type": "markdown",
      "source": [
        "Có thể sử dụng trọng số ở các phiên bản huấn luyện trước qua đường link sau: [best_version](https://drive.google.com/drive/folders/1Skn6lKOL8cTzaCyB9m3RbG_lRAWvNBZL?usp=sharing)"
      ],
      "metadata": {
        "id": "5MlDFuYW5JSs"
      }
    },
    {
      "cell_type": "markdown",
      "source": [
        "###**Bước 2**: Tải dữ liệu muốn dự đoán\n",
        "\n",
        "Để các ảnh cần dự đoán trong 1 folder tên **test_img/test_vid** trong Google Drive\n",
        "\n",
        "* Có thể tham khảo bộ ảnh sau: [test_img](https://l.messenger.com/l.php?u=https%3A%2F%2Fdrive.google.com%2Fdrive%2Ffolders%2F1totO1tw2wZ_Fv2RSG72_4tuUZC66LdpY%3Fusp%3Ddrive_link&h=AT1vv7_RcZ3qzSh9Wt_YqVTeYw9jVWh1ibVWN_Egp3bO1hhzk_8POVws0soYLXyYsVMgxOIMmyJxYB26wukr3E_dMXS6biCLG34T6ZjkYm-Fmt2djZGnzr4eHfexZl-rgLFb1g)\n",
        "\n",
        "* Có thể tham khảo bộ video sai: [test_vid](https://drive.google.com/drive/folders/1AnmtegDkE8LV1Wed94Tkc7MVO1EroX2Q?usp=sharing)"
      ],
      "metadata": {
        "id": "eGQ95A1B5Lh7"
      }
    },
    {
      "cell_type": "code",
      "source": [
        "from google.colab import drive\n",
        "drive.mount('/content/drive')"
      ],
      "metadata": {
        "id": "wqMjDK705S8r"
      },
      "execution_count": null,
      "outputs": []
    },
    {
      "cell_type": "markdown",
      "metadata": {
        "id": "YSTJTMvUgsuo"
      },
      "source": [
        "###**Bước 3**: Cài đặt YOLOv10"
      ]
    },
    {
      "cell_type": "code",
      "execution_count": null,
      "metadata": {
        "id": "SiCPU4Uwgoij"
      },
      "outputs": [],
      "source": [
        "!git clone https://github.com/THU-MIG/yolov10"
      ]
    },
    {
      "cell_type": "markdown",
      "source": [
        "###**Bước 4**: Tiến hành dự đoán\n",
        "\n",
        " Nếu muốn sử dụng các phiên bản trọng số trước, thay **MODEL_PATH** thành\n",
        " **/content/drive/MyDrive/best_version/best_ver_x** với x là phiên bàn muốn chạy."
      ],
      "metadata": {
        "id": "rHT3GDia6QHR"
      }
    },
    {
      "cell_type": "markdown",
      "source": [
        "* Đối với ảnh"
      ],
      "metadata": {
        "id": "O8lOT2AqiBKV"
      }
    },
    {
      "cell_type": "code",
      "source": [
        "%cd /content/yolov10\n",
        "\n",
        "from ultralytics import YOLOv10\n",
        "import os\n",
        "\n",
        "MODEL_PATH = '/content/best.pt'\n",
        "model = YOLOv10(MODEL_PATH)\n",
        "\n",
        "input_folder = '/content/drive/MyDrive/test_img'\n",
        "output_folder = '/content/output_images'\n",
        "\n",
        "if not os.path.exists(output_folder):\n",
        "    os.makedirs(output_folder)\n",
        "\n",
        "for filename in os.listdir(input_folder):\n",
        "    if filename.lower().endswith(('.png', '.jpg', '.jpeg', '.bmp', '.gif')):\n",
        "        input_path = os.path.join(input_folder, filename)\n",
        "\n",
        "        results = model.predict(input_path)\n",
        "\n",
        "        output_path = os.path.join(output_folder, filename)\n",
        "        results[0].save(output_path)\n",
        "\n",
        "        print(f'Processed and saved: {output_path}')\n"
      ],
      "metadata": {
        "id": "ru5IwVpF6T7b"
      },
      "execution_count": null,
      "outputs": []
    },
    {
      "cell_type": "markdown",
      "source": [
        "Ảnh đã dự đoán được lưu tại folder **output_images**"
      ],
      "metadata": {
        "id": "w4dvoniQAgRP"
      }
    },
    {
      "cell_type": "markdown",
      "source": [
        "* Đối với video"
      ],
      "metadata": {
        "id": "OcQ8oAntiER8"
      }
    },
    {
      "cell_type": "code",
      "source": [
        "from ultralytics import YOLOv10\n",
        "import os\n",
        "import cv2\n",
        "import numpy as np\n",
        "\n",
        "# Paths to model and directories\n",
        "MODEL_PATH = '/content/best.pt'\n",
        "input_folder = '/content/drive/MyDrive/test_vid'\n",
        "output_folder = '/content/output_videos'\n",
        "\n",
        "# Load the YOLO model\n",
        "model = YOLOv10(MODEL_PATH)\n",
        "\n",
        "# Create the output directory if it doesn't exist\n",
        "if not os.path.exists(output_folder):\n",
        "    os.makedirs(output_folder)\n",
        "\n",
        "# Process each video file in the input folder\n",
        "for filename in os.listdir(input_folder):\n",
        "    if filename.lower().endswith(('.mp4', '.avi', '.mov', '.mkv')):\n",
        "        input_path = os.path.join(input_folder, filename)\n",
        "        output_path = os.path.join(output_folder, filename)\n",
        "\n",
        "        # Open the video file\n",
        "        cap = cv2.VideoCapture(input_path)\n",
        "        if not cap.isOpened():\n",
        "            print(f\"Error opening video file: {input_path}\")\n",
        "            continue\n",
        "\n",
        "        # Get video properties\n",
        "        frame_width = int(cap.get(cv2.CAP_PROP_FRAME_WIDTH))\n",
        "        frame_height = int(cap.get(cv2.CAP_PROP_FRAME_HEIGHT))\n",
        "        fps = cap.get(cv2.CAP_PROP_FPS)\n",
        "\n",
        "        # Define the codec and create VideoWriter object\n",
        "        fourcc = cv2.VideoWriter_fourcc(*'mp4v')  # or use 'XVID' for .avi files\n",
        "        out = cv2.VideoWriter(output_path, fourcc, fps, (frame_width, frame_height))\n",
        "\n",
        "        while cap.isOpened():\n",
        "            ret, frame = cap.read()\n",
        "            if not ret:\n",
        "                break\n",
        "\n",
        "            # Convert frame to RGB format for YOLO\n",
        "            frame_rgb = cv2.cvtColor(frame, cv2.COLOR_BGR2RGB)\n",
        "\n",
        "            # Make predictions\n",
        "            results = model.predict(frame_rgb)\n",
        "\n",
        "            # Draw results on the frame\n",
        "            annotated_frame = results[0].plot()  # Plotting adds annotations to the frame\n",
        "\n",
        "            # Convert back to BGR format for saving\n",
        "            annotated_frame_bgr = cv2.cvtColor(annotated_frame, cv2.COLOR_RGB2BGR)\n",
        "\n",
        "            # Write the frame to the output video\n",
        "            out.write(annotated_frame_bgr)\n",
        "\n",
        "        # Release resources\n",
        "        cap.release()\n",
        "        out.release()\n",
        "        cv2.destroyAllWindows()\n",
        "\n",
        "        print(f'Processed and saved: {output_path}')\n"
      ],
      "metadata": {
        "id": "Apa-rYT8gXbu"
      },
      "execution_count": null,
      "outputs": []
    },
    {
      "cell_type": "markdown",
      "source": [
        "Ảnh đã dự đoán được lưu tại folder **output_videos**"
      ],
      "metadata": {
        "id": "kYLcH4LpiIsc"
      }
    }
  ],
  "metadata": {
    "colab": {
      "provenance": [],
      "include_colab_link": true
    },
    "kernelspec": {
      "display_name": "Python 3",
      "name": "python3"
    },
    "language_info": {
      "name": "python"
    }
  },
  "nbformat": 4,
  "nbformat_minor": 0
}