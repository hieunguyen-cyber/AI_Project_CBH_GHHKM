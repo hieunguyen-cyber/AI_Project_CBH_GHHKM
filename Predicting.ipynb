{
  "cells": [
    {
      "cell_type": "markdown",
      "metadata": {
        "id": "view-in-github",
        "colab_type": "text"
      },
      "source": [
        "<a href=\"https://colab.research.google.com/github/hieunguyen-cyber/AI_Project_CBH_GHHKM/blob/main/Predicting.ipynb\" target=\"_parent\"><img src=\"https://colab.research.google.com/assets/colab-badge.svg\" alt=\"Open In Colab\"/></a>"
      ]
    },
    {
      "cell_type": "markdown",
      "metadata": {
        "id": "U5UMSnbwTSBo"
      },
      "source": [
        "#**Sử dụng mô hình YOLOv10 đã được huấn luyện để nhận diện biên báo giao thông**\n",
        "\n",
        "\n",
        "Ở đây, chúng ta sẽ sử dụng file trọng số **best.pt** thu được trong giai đoạn huấn luyện để áp dụng vào mô hình YOLOv10 nhằm giải quyết bài toán nhận diện biển báo giao thông.\n",
        "\n",
        "**Chú ý**: Kết nối với GPU trước khi sử dụng\n",
        "\n",
        "Nhóm thực hiện: CBH_GHHKM\n",
        "\n",
        "---"
      ]
    },
    {
      "cell_type": "markdown",
      "metadata": {
        "id": "mNw_R4VrUyK5"
      },
      "source": [
        "###**Bước 1**: Tải file trọng số **best.pt** lên Google Colab"
      ]
    },
    {
      "cell_type": "code",
      "execution_count": null,
      "metadata": {
        "id": "f-rUHubbWf4t"
      },
      "outputs": [],
      "source": [
        "!git clone https://github.com/hieunguyen-cyber/Weight_AIBK_2024.git\n",
        "!mv /content/Weight_AIBK_2024/best.pt /content"
      ]
    },
    {
      "cell_type": "markdown",
      "source": [],
      "metadata": {
        "id": "5MlDFuYW5JSs"
      }
    },
    {
      "cell_type": "markdown",
      "source": [
        "###**Bước 2**: Tải dữ liệu muốn dự đoán\n",
        "\n",
        "Để các ảnh cần dự đoán trong 1 folder tên **test_img** trong Google Drive"
      ],
      "metadata": {
        "id": "eGQ95A1B5Lh7"
      }
    },
    {
      "cell_type": "code",
      "source": [
        "from google.colab import drive\n",
        "drive.mount('/content/drive')"
      ],
      "metadata": {
        "id": "wqMjDK705S8r"
      },
      "execution_count": null,
      "outputs": []
    },
    {
      "cell_type": "markdown",
      "metadata": {
        "id": "YSTJTMvUgsuo"
      },
      "source": [
        "###**Bước 3**: Cài đặt YOLOv10"
      ]
    },
    {
      "cell_type": "code",
      "execution_count": null,
      "metadata": {
        "id": "SiCPU4Uwgoij"
      },
      "outputs": [],
      "source": [
        "!git clone https://github.com/THU-MIG/yolov10"
      ]
    },
    {
      "cell_type": "markdown",
      "source": [
        "###**Bước 4**: Tiến hành dự đoán"
      ],
      "metadata": {
        "id": "rHT3GDia6QHR"
      }
    },
    {
      "cell_type": "code",
      "source": [
        "%cd /content/yolov10\n",
        "\n",
        "from ultralytics import YOLOv10\n",
        "import os\n",
        "\n",
        "MODEL_PATH = '/content/best.pt'\n",
        "model = YOLOv10(MODEL_PATH)\n",
        "\n",
        "input_folder = '/content/drive/MyDrive/test_img'\n",
        "output_folder = '/content/output_images'\n",
        "\n",
        "if not os.path.exists(output_folder):\n",
        "    os.makedirs(output_folder)\n",
        "\n",
        "for filename in os.listdir(input_folder):\n",
        "    if filename.lower().endswith(('.png', '.jpg', '.jpeg', '.bmp', '.gif')):\n",
        "        input_path = os.path.join(input_folder, filename)\n",
        "\n",
        "        results = model.predict(input_path)\n",
        "\n",
        "        output_path = os.path.join(output_folder, filename)\n",
        "        results[0].save(output_path)\n",
        "\n",
        "        print(f'Processed and saved: {output_path}')\n"
      ],
      "metadata": {
        "id": "ru5IwVpF6T7b"
      },
      "execution_count": null,
      "outputs": []
    },
    {
      "cell_type": "markdown",
      "source": [
        "* Ảnh đã dự đoán được lưu tại folder **output_images**"
      ],
      "metadata": {
        "id": "w4dvoniQAgRP"
      }
    }
  ],
  "metadata": {
    "accelerator": "GPU",
    "colab": {
      "gpuType": "T4",
      "provenance": [],
      "authorship_tag": "ABX9TyOqFaVS5jaR17Ym6+cv+hkx",
      "include_colab_link": true
    },
    "kernelspec": {
      "display_name": "Python 3",
      "name": "python3"
    },
    "language_info": {
      "name": "python"
    }
  },
  "nbformat": 4,
  "nbformat_minor": 0
}