{
  "cells": [
    {
      "cell_type": "markdown",
      "metadata": {
        "id": "view-in-github",
        "colab_type": "text"
      },
      "source": [
        "<a href=\"https://colab.research.google.com/github/hieunguyen-cyber/AI_Project_CBH_GHHKM/blob/main/Predicting.ipynb\" target=\"_parent\"><img src=\"https://colab.research.google.com/assets/colab-badge.svg\" alt=\"Open In Colab\"/></a>"
      ]
    },
    {
      "cell_type": "markdown",
      "metadata": {
        "id": "U5UMSnbwTSBo"
      },
      "source": [
        "#**Sử dụng mô hình YOLOv10 đã được huấn luyện để nhận diện biên báo giao thông**\n",
        "\n",
        "\n",
        "Ở đây, chúng ta sẽ sử dụng file trọng số **best.pt** thu được trong giai đoạn huấn luyện để áp dụng vào mô hình YOLOv10 nhằm giải quyết bài toán nhận diện biển báo giao thông.\n",
        "\n",
        "**Chú ý**: Kết nối với GPU trước khi sử dụng\n",
        "\n",
        "Nhóm thực hiện: CBH_GHHKM\n",
        "\n",
        "---"
      ]
    },
    {
      "cell_type": "markdown",
      "metadata": {
        "id": "mNw_R4VrUyK5"
      },
      "source": [
        "###**Bước 1**: Tải file trọng số **best.pt** lên Google Colab"
      ]
    },
    {
      "cell_type": "code",
      "execution_count": 1,
      "metadata": {
        "id": "f-rUHubbWf4t",
        "outputId": "60870220-ffeb-4e3a-f2dc-3e5711be40b4",
        "colab": {
          "base_uri": "https://localhost:8080/"
        }
      },
      "outputs": [
        {
          "output_type": "stream",
          "name": "stdout",
          "text": [
            "Cloning into 'Weight_AIBK_2024'...\n",
            "remote: Enumerating objects: 16, done.\u001b[K\n",
            "remote: Counting objects: 100% (16/16), done.\u001b[K\n",
            "remote: Compressing objects: 100% (12/12), done.\u001b[K\n",
            "remote: Total 16 (delta 0), reused 0 (delta 0), pack-reused 0\u001b[K\n",
            "Receiving objects: 100% (16/16), 14.88 MiB | 10.16 MiB/s, done.\n"
          ]
        }
      ],
      "source": [
        "!git clone https://github.com/hieunguyen-cyber/Weight_AIBK_2024.git\n",
        "!mv /content/Weight_AIBK_2024/best.pt /content"
      ]
    },
    {
      "cell_type": "markdown",
      "source": [],
      "metadata": {
        "id": "5MlDFuYW5JSs"
      }
    },
    {
      "cell_type": "markdown",
      "source": [
        "###**Bước 2**: Tải dữ liệu muốn dự đoán\n",
        "\n",
        "Để các ảnh cần dự đoán trong 1 folder tên **test_img** trong Google Drive\n",
        "\n",
        "Có thể tham khảo bộ ảnh sau: [test_img](https://l.messenger.com/l.php?u=https%3A%2F%2Fdrive.google.com%2Fdrive%2Ffolders%2F1totO1tw2wZ_Fv2RSG72_4tuUZC66LdpY%3Fusp%3Ddrive_link&h=AT1vv7_RcZ3qzSh9Wt_YqVTeYw9jVWh1ibVWN_Egp3bO1hhzk_8POVws0soYLXyYsVMgxOIMmyJxYB26wukr3E_dMXS6biCLG34T6ZjkYm-Fmt2djZGnzr4eHfexZl-rgLFb1g)"
      ],
      "metadata": {
        "id": "eGQ95A1B5Lh7"
      }
    },
    {
      "cell_type": "code",
      "source": [
        "from google.colab import drive\n",
        "drive.mount('/content/drive')"
      ],
      "metadata": {
        "id": "wqMjDK705S8r",
        "outputId": "28158185-e440-4078-a763-5f3b10a46bab",
        "colab": {
          "base_uri": "https://localhost:8080/"
        }
      },
      "execution_count": 2,
      "outputs": [
        {
          "output_type": "stream",
          "name": "stdout",
          "text": [
            "Mounted at /content/drive\n"
          ]
        }
      ]
    },
    {
      "cell_type": "markdown",
      "metadata": {
        "id": "YSTJTMvUgsuo"
      },
      "source": [
        "###**Bước 3**: Cài đặt YOLOv10"
      ]
    },
    {
      "cell_type": "code",
      "execution_count": null,
      "metadata": {
        "id": "SiCPU4Uwgoij"
      },
      "outputs": [],
      "source": [
        "!git clone https://github.com/THU-MIG/yolov10"
      ]
    },
    {
      "cell_type": "markdown",
      "source": [
        "###**Bước 4**: Tiến hành dự đoán"
      ],
      "metadata": {
        "id": "rHT3GDia6QHR"
      }
    },
    {
      "cell_type": "code",
      "source": [
        "%cd /content/yolov10\n",
        "\n",
        "from ultralytics import YOLOv10\n",
        "import os\n",
        "\n",
        "MODEL_PATH = '/content/best.pt'\n",
        "model = YOLOv10(MODEL_PATH)\n",
        "\n",
        "input_folder = '/content/drive/MyDrive/test_img'\n",
        "output_folder = '/content/output_images'\n",
        "\n",
        "if not os.path.exists(output_folder):\n",
        "    os.makedirs(output_folder)\n",
        "\n",
        "for filename in os.listdir(input_folder):\n",
        "    if filename.lower().endswith(('.png', '.jpg', '.jpeg', '.bmp', '.gif')):\n",
        "        input_path = os.path.join(input_folder, filename)\n",
        "\n",
        "        results = model.predict(input_path)\n",
        "\n",
        "        output_path = os.path.join(output_folder, filename)\n",
        "        results[0].save(output_path)\n",
        "\n",
        "        print(f'Processed and saved: {output_path}')\n"
      ],
      "metadata": {
        "id": "ru5IwVpF6T7b"
      },
      "execution_count": null,
      "outputs": []
    },
    {
      "cell_type": "markdown",
      "source": [
        "* Ảnh đã dự đoán được lưu tại folder **output_images**"
      ],
      "metadata": {
        "id": "w4dvoniQAgRP"
      }
    }
  ],
  "metadata": {
    "accelerator": "GPU",
    "colab": {
      "gpuType": "T4",
      "provenance": [],
      "authorship_tag": "ABX9TyNLnZYUcWI6Fzcr/17EfzlU",
      "include_colab_link": true
    },
    "kernelspec": {
      "display_name": "Python 3",
      "name": "python3"
    },
    "language_info": {
      "name": "python"
    }
  },
  "nbformat": 4,
  "nbformat_minor": 0
}